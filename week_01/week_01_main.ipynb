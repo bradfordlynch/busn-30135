{
 "cells": [
  {
   "cell_type": "markdown",
   "metadata": {
    "vscode": {
     "languageId": "plaintext"
    }
   },
   "source": [
    "# Introduction to Working with Large Language Models\n",
    "Today's goals are:\n",
    "- Learn the basics of interacting with LLMs\n",
    "- Explore LLMs that can consume other modalities beyond text, e.g., images\n",
    "- Evaluate an LLM\n",
    "\n",
    "## Interacting with LLMs\n",
    "Since LLMs are language models, we primarily interact with them using language vis a vis \"prompts.\" These interactions typically involve the following steps:\n",
    "1. **System Prompt** - Provides the LLM with some context for how it should \"think\" about the task at hand\n",
    "2. **User Prompt** - Instructs the LLM to carry out a task\n",
    "3. **Assisstant Response** - The output of the LLM in response to the system and user prompts\n",
    "4. Further Interactions - Steps 2 and 3 can be repeated to form a \"conversation\"\n",
    "The quality of the output from an LLM depends highly on how we prompt it--as we will see later in the lab. "
   ]
  }
 ],
 "metadata": {
  "language_info": {
   "name": "python"
  }
 },
 "nbformat": 4,
 "nbformat_minor": 2
}
